{
 "cells": [
  {
   "cell_type": "code",
   "execution_count": 1,
   "id": "73c813c8-9db1-4cde-b3c6-9df82d689ae7",
   "metadata": {},
   "outputs": [],
   "source": [
    "# Libraries\n",
    "\n",
    "import pandas as pd\n",
    "import numpy as np\n",
    "import matplotlib.pyplot as plt\n",
    "%matplotlib inline"
   ]
  },
  {
   "cell_type": "code",
   "execution_count": 2,
   "id": "3356609a-1bfc-4986-9586-8502dc4e4c8b",
   "metadata": {},
   "outputs": [
    {
     "data": {
      "text/html": [
       "<div>\n",
       "<style scoped>\n",
       "    .dataframe tbody tr th:only-of-type {\n",
       "        vertical-align: middle;\n",
       "    }\n",
       "\n",
       "    .dataframe tbody tr th {\n",
       "        vertical-align: top;\n",
       "    }\n",
       "\n",
       "    .dataframe thead th {\n",
       "        text-align: right;\n",
       "    }\n",
       "</style>\n",
       "<table border=\"1\" class=\"dataframe\">\n",
       "  <thead>\n",
       "    <tr style=\"text-align: right;\">\n",
       "      <th></th>\n",
       "      <th>symboling</th>\n",
       "      <th>normalized-losses</th>\n",
       "      <th>make</th>\n",
       "      <th>aspiration</th>\n",
       "      <th>num-of-doors</th>\n",
       "      <th>body-style</th>\n",
       "      <th>drive-wheels</th>\n",
       "      <th>engine-location</th>\n",
       "      <th>wheel-base</th>\n",
       "      <th>length</th>\n",
       "      <th>...</th>\n",
       "      <th>compression-ratio</th>\n",
       "      <th>horsepower</th>\n",
       "      <th>peak-rpm</th>\n",
       "      <th>city-mpg</th>\n",
       "      <th>highway-mpg</th>\n",
       "      <th>price</th>\n",
       "      <th>city-L/100km</th>\n",
       "      <th>horsepower-binned</th>\n",
       "      <th>diesel</th>\n",
       "      <th>gas</th>\n",
       "    </tr>\n",
       "  </thead>\n",
       "  <tbody>\n",
       "    <tr>\n",
       "      <th>0</th>\n",
       "      <td>3</td>\n",
       "      <td>122</td>\n",
       "      <td>alfa-romero</td>\n",
       "      <td>std</td>\n",
       "      <td>two</td>\n",
       "      <td>convertible</td>\n",
       "      <td>rwd</td>\n",
       "      <td>front</td>\n",
       "      <td>88.6</td>\n",
       "      <td>0.811148</td>\n",
       "      <td>...</td>\n",
       "      <td>9.0</td>\n",
       "      <td>111.0</td>\n",
       "      <td>5000.0</td>\n",
       "      <td>21</td>\n",
       "      <td>27</td>\n",
       "      <td>13495.0</td>\n",
       "      <td>11.190476</td>\n",
       "      <td>Medium</td>\n",
       "      <td>0</td>\n",
       "      <td>1</td>\n",
       "    </tr>\n",
       "    <tr>\n",
       "      <th>1</th>\n",
       "      <td>3</td>\n",
       "      <td>122</td>\n",
       "      <td>alfa-romero</td>\n",
       "      <td>std</td>\n",
       "      <td>two</td>\n",
       "      <td>convertible</td>\n",
       "      <td>rwd</td>\n",
       "      <td>front</td>\n",
       "      <td>88.6</td>\n",
       "      <td>0.811148</td>\n",
       "      <td>...</td>\n",
       "      <td>9.0</td>\n",
       "      <td>111.0</td>\n",
       "      <td>5000.0</td>\n",
       "      <td>21</td>\n",
       "      <td>27</td>\n",
       "      <td>16500.0</td>\n",
       "      <td>11.190476</td>\n",
       "      <td>Medium</td>\n",
       "      <td>0</td>\n",
       "      <td>1</td>\n",
       "    </tr>\n",
       "    <tr>\n",
       "      <th>2</th>\n",
       "      <td>1</td>\n",
       "      <td>122</td>\n",
       "      <td>alfa-romero</td>\n",
       "      <td>std</td>\n",
       "      <td>two</td>\n",
       "      <td>hatchback</td>\n",
       "      <td>rwd</td>\n",
       "      <td>front</td>\n",
       "      <td>94.5</td>\n",
       "      <td>0.822681</td>\n",
       "      <td>...</td>\n",
       "      <td>9.0</td>\n",
       "      <td>154.0</td>\n",
       "      <td>5000.0</td>\n",
       "      <td>19</td>\n",
       "      <td>26</td>\n",
       "      <td>16500.0</td>\n",
       "      <td>12.368421</td>\n",
       "      <td>Medium</td>\n",
       "      <td>0</td>\n",
       "      <td>1</td>\n",
       "    </tr>\n",
       "    <tr>\n",
       "      <th>3</th>\n",
       "      <td>2</td>\n",
       "      <td>164</td>\n",
       "      <td>audi</td>\n",
       "      <td>std</td>\n",
       "      <td>four</td>\n",
       "      <td>sedan</td>\n",
       "      <td>fwd</td>\n",
       "      <td>front</td>\n",
       "      <td>99.8</td>\n",
       "      <td>0.848630</td>\n",
       "      <td>...</td>\n",
       "      <td>10.0</td>\n",
       "      <td>102.0</td>\n",
       "      <td>5500.0</td>\n",
       "      <td>24</td>\n",
       "      <td>30</td>\n",
       "      <td>13950.0</td>\n",
       "      <td>9.791667</td>\n",
       "      <td>Medium</td>\n",
       "      <td>0</td>\n",
       "      <td>1</td>\n",
       "    </tr>\n",
       "    <tr>\n",
       "      <th>4</th>\n",
       "      <td>2</td>\n",
       "      <td>164</td>\n",
       "      <td>audi</td>\n",
       "      <td>std</td>\n",
       "      <td>four</td>\n",
       "      <td>sedan</td>\n",
       "      <td>4wd</td>\n",
       "      <td>front</td>\n",
       "      <td>99.4</td>\n",
       "      <td>0.848630</td>\n",
       "      <td>...</td>\n",
       "      <td>8.0</td>\n",
       "      <td>115.0</td>\n",
       "      <td>5500.0</td>\n",
       "      <td>18</td>\n",
       "      <td>22</td>\n",
       "      <td>17450.0</td>\n",
       "      <td>13.055556</td>\n",
       "      <td>Medium</td>\n",
       "      <td>0</td>\n",
       "      <td>1</td>\n",
       "    </tr>\n",
       "  </tbody>\n",
       "</table>\n",
       "<p>5 rows × 29 columns</p>\n",
       "</div>"
      ],
      "text/plain": [
       "   symboling  normalized-losses         make aspiration num-of-doors  \\\n",
       "0          3                122  alfa-romero        std          two   \n",
       "1          3                122  alfa-romero        std          two   \n",
       "2          1                122  alfa-romero        std          two   \n",
       "3          2                164         audi        std         four   \n",
       "4          2                164         audi        std         four   \n",
       "\n",
       "    body-style drive-wheels engine-location  wheel-base    length  ...  \\\n",
       "0  convertible          rwd           front        88.6  0.811148  ...   \n",
       "1  convertible          rwd           front        88.6  0.811148  ...   \n",
       "2    hatchback          rwd           front        94.5  0.822681  ...   \n",
       "3        sedan          fwd           front        99.8  0.848630  ...   \n",
       "4        sedan          4wd           front        99.4  0.848630  ...   \n",
       "\n",
       "   compression-ratio  horsepower  peak-rpm city-mpg highway-mpg    price  \\\n",
       "0                9.0       111.0    5000.0       21          27  13495.0   \n",
       "1                9.0       111.0    5000.0       21          27  16500.0   \n",
       "2                9.0       154.0    5000.0       19          26  16500.0   \n",
       "3               10.0       102.0    5500.0       24          30  13950.0   \n",
       "4                8.0       115.0    5500.0       18          22  17450.0   \n",
       "\n",
       "  city-L/100km  horsepower-binned  diesel  gas  \n",
       "0    11.190476             Medium       0    1  \n",
       "1    11.190476             Medium       0    1  \n",
       "2    12.368421             Medium       0    1  \n",
       "3     9.791667             Medium       0    1  \n",
       "4    13.055556             Medium       0    1  \n",
       "\n",
       "[5 rows x 29 columns]"
      ]
     },
     "execution_count": 2,
     "metadata": {},
     "output_type": "execute_result"
    }
   ],
   "source": [
    "# path of data \n",
    "path = 'https://cf-courses-data.s3.us.cloud-object-storage.appdomain.cloud/IBMDeveloperSkillsNetwork-DA0101EN-SkillsNetwork/labs/Data%20files/automobileEDA.csv'\n",
    "df = pd.read_csv(path)\n",
    "df.head()"
   ]
  },
  {
   "cell_type": "markdown",
   "id": "f6aecaf5-895e-4c58-9df7-2d2ace088faa",
   "metadata": {},
   "source": [
    "# Simple Linear Regression"
   ]
  },
  {
   "cell_type": "code",
   "execution_count": 81,
   "id": "3a9119e8-d607-4654-aac3-f7d293fa7fa8",
   "metadata": {},
   "outputs": [
    {
     "data": {
      "text/plain": [
       "LinearRegression()"
      ]
     },
     "execution_count": 81,
     "metadata": {},
     "output_type": "execute_result"
    }
   ],
   "source": [
    "from sklearn.linear_model import LinearRegression\n",
    "\n",
    "# Create object\n",
    "lm = LinearRegression()\n",
    "lm"
   ]
  },
  {
   "cell_type": "markdown",
   "id": "959a2b0c-2f66-418b-bd86-a363b8ad1467",
   "metadata": {},
   "source": [
    "#### Set X and Y, then fit the model:"
   ]
  },
  {
   "cell_type": "code",
   "execution_count": 99,
   "id": "377f4d4d-a0ee-4b1b-8b9b-f5708ec6c15c",
   "metadata": {},
   "outputs": [
    {
     "data": {
      "text/plain": [
       "LinearRegression()"
      ]
     },
     "execution_count": 99,
     "metadata": {},
     "output_type": "execute_result"
    }
   ],
   "source": [
    "X = df[['highway-mpg']]\n",
    "Y = df['price']\n",
    "lm.fit(X,Y)"
   ]
  },
  {
   "cell_type": "markdown",
   "id": "261f99a5-d450-4518-943a-ed2ce50c7362",
   "metadata": {},
   "source": [
    "#### Intercept, Coefficient, and R^2:"
   ]
  },
  {
   "cell_type": "code",
   "execution_count": 84,
   "id": "a25c7a2b-19e9-4721-9189-031829fa0729",
   "metadata": {},
   "outputs": [
    {
     "data": {
      "text/plain": [
       "(38423.3058581574, array([-821.73337832]))"
      ]
     },
     "execution_count": 84,
     "metadata": {},
     "output_type": "execute_result"
    }
   ],
   "source": [
    "lm.intercept_ , lm.coef_ "
   ]
  },
  {
   "cell_type": "code",
   "execution_count": 103,
   "id": "8b9fd53f-e77d-42fe-8e6a-7ff5d4c8ee69",
   "metadata": {},
   "outputs": [
    {
     "data": {
      "text/plain": [
       "0.4965911884339176"
      ]
     },
     "execution_count": 103,
     "metadata": {},
     "output_type": "execute_result"
    }
   ],
   "source": [
    "Y_simple_r2 = lm.score(X,Y)\n",
    "Y_simple_r2"
   ]
  },
  {
   "cell_type": "markdown",
   "id": "996ce951-dfc4-48a6-bc13-bf80a72c1639",
   "metadata": {},
   "source": [
    "#### Store Predicted Values:"
   ]
  },
  {
   "cell_type": "code",
   "execution_count": 101,
   "id": "de897f15-f827-4542-b0fc-38a713c53c8d",
   "metadata": {},
   "outputs": [],
   "source": [
    "Y_hat_simple = lm.predict(X)"
   ]
  },
  {
   "cell_type": "markdown",
   "id": "6daf36d0-1185-45ad-a38d-239a22acea37",
   "metadata": {},
   "source": [
    "#### Mean Squared Error:"
   ]
  },
  {
   "cell_type": "code",
   "execution_count": 60,
   "id": "67265bb8-2743-4234-94fd-9a0c5cb5a1ce",
   "metadata": {},
   "outputs": [],
   "source": [
    "from sklearn.metrics import mean_squared_error"
   ]
  },
  {
   "cell_type": "code",
   "execution_count": 102,
   "id": "5ee5633d-458e-4cff-a42f-10afa0ab0de5",
   "metadata": {},
   "outputs": [
    {
     "data": {
      "text/plain": [
       "31635042.944639888"
      ]
     },
     "execution_count": 102,
     "metadata": {},
     "output_type": "execute_result"
    }
   ],
   "source": [
    "Y_simple_mse = mean_squared_error(Y, Y_hat_simple) # First input target, second input predicted values\n",
    "Y_simple_mse"
   ]
  },
  {
   "cell_type": "markdown",
   "id": "cb2a8472-72a0-4d61-9c14-cff71bbaa607",
   "metadata": {},
   "source": [
    "## Graphing the model:"
   ]
  },
  {
   "cell_type": "code",
   "execution_count": 6,
   "id": "51731141-0bd8-4e36-91dd-99cc5617cd73",
   "metadata": {},
   "outputs": [],
   "source": [
    "import seaborn as sns"
   ]
  },
  {
   "cell_type": "code",
   "execution_count": 7,
   "id": "925a3e49-8972-4bd9-b877-1f488158c86e",
   "metadata": {},
   "outputs": [
    {
     "data": {
      "text/plain": [
       "(0.0, 48162.63777824581)"
      ]
     },
     "execution_count": 7,
     "metadata": {},
     "output_type": "execute_result"
    },
    {
     "data": {
      "image/png": "[encoded data removed]",
      "text/plain": [
       "<Figure size 720x576 with 1 Axes>"
      ]
     },
     "metadata": {
      "needs_background": "light"
     },
     "output_type": "display_data"
    }
   ],
   "source": [
    "# To make the plot bigger and easier to read\n",
    "width = 10\n",
    "height = 8\n",
    "plt.figure(figsize=(width, height))\n",
    "\n",
    "# The actual graphing of the plot\n",
    "sns.regplot(x=\"highway-mpg\", y=\"price\", data=df)\n",
    "plt.ylim(0,) # Makes Y-axis stop at 0. "
   ]
  },
  {
   "cell_type": "markdown",
   "id": "bb4b1fde-a903-459c-a77a-237d3c696820",
   "metadata": {},
   "source": [
    "## Graphing Residual Plot:"
   ]
  },
  {
   "cell_type": "code",
   "execution_count": 8,
   "id": "202dcae0-e701-4a23-a51c-a23cc6a329a7",
   "metadata": {},
   "outputs": [
    {
     "data": {
      "text/plain": [
       "<AxesSubplot:xlabel='highway-mpg', ylabel='price'>"
      ]
     },
     "execution_count": 8,
     "metadata": {},
     "output_type": "execute_result"
    },
    {
     "data": {
      "image/png": "[encoded data removed]",
      "text/plain": [
       "<Figure size 720x576 with 1 Axes>"
      ]
     },
     "metadata": {
      "needs_background": "light"
     },
     "output_type": "display_data"
    }
   ],
   "source": [
    "# Setting graph size\n",
    "width = 10\n",
    "height = 8\n",
    "plt.figure(figsize=(width, height))\n",
    "\n",
    "# Actual Residual Graph\n",
    "sns.residplot(x=\"highway-mpg\", y=\"price\", data=df)"
   ]
  },
  {
   "cell_type": "markdown",
   "id": "e67af689-c49e-4afc-9219-feadcab74c70",
   "metadata": {},
   "source": [
    "# Multiple Linear Regression"
   ]
  },
  {
   "cell_type": "markdown",
   "id": "ece3bde7-82f3-4da7-9cdc-ae5ba0d55d61",
   "metadata": {},
   "source": [
    "$$\n",
    "Y: Response \\ Variable\\\\\\\\\n",
    "X\\_1 :Predictor\\ Variable \\ 1\\\\\\\\\n",
    "X\\_2: Predictor\\ Variable \\ 2\\\\\\\\\n",
    "X\\_3: Predictor\\ Variable \\ 3\\\\\\\\\n",
    "X\\_4: Predictor\\ Variable \\ 4\\\\\\\\\n",
    "$$\n",
    "\n",
    "$$\n",
    "a: intercept\\\\\\\\\n",
    "b\\_1 :coefficients \\ of\\ Variable \\ 1\\\\\\\\\n",
    "b\\_2: coefficients \\ of\\ Variable \\ 2\\\\\\\\\n",
    "b\\_3: coefficients \\ of\\ Variable \\ 3\\\\\\\\\n",
    "b\\_4: coefficients \\ of\\ Variable \\ 4\\\\\\\\\n",
    "$$\n",
    "\n",
    "$$\n",
    "Yhat = a + b\\_1 X\\_1 + b\\_2 X\\_2 + b\\_3 X\\_3 + b\\_4 X\\_4\n",
    "$$\n",
    "\n"
   ]
  },
  {
   "cell_type": "markdown",
   "id": "76a63db5-b56a-473c-beb1-4c3c216801fb",
   "metadata": {},
   "source": [
    "#### Set the predictor variables, response/target variable and fit:"
   ]
  },
  {
   "cell_type": "code",
   "execution_count": 87,
   "id": "ee81dd8f-3ec8-4be5-90f9-7320f92c24ed",
   "metadata": {},
   "outputs": [
    {
     "data": {
      "text/plain": [
       "LinearRegression()"
      ]
     },
     "execution_count": 87,
     "metadata": {},
     "output_type": "execute_result"
    }
   ],
   "source": [
    "Z = df[['horsepower', 'curb-weight', 'engine-size', 'highway-mpg']]\n",
    "lm.fit(Z, Y)"
   ]
  },
  {
   "cell_type": "markdown",
   "id": "d8829a52-3924-48e8-a4a5-68320c1ae414",
   "metadata": {},
   "source": [
    "#### Intercept, Coefficients, R^2:"
   ]
  },
  {
   "cell_type": "code",
   "execution_count": 88,
   "id": "92a79bab-4540-426b-8f2a-d2e24c917886",
   "metadata": {
    "tags": []
   },
   "outputs": [
    {
     "data": {
      "text/plain": [
       "(-15806.624626329198,\n",
       " array([53.49574423,  4.70770099, 81.53026382, 36.05748882]))"
      ]
     },
     "execution_count": 88,
     "metadata": {},
     "output_type": "execute_result"
    }
   ],
   "source": [
    "lm.intercept_ , lm.coef_"
   ]
  },
  {
   "cell_type": "code",
   "execution_count": 89,
   "id": "b24da82b-6202-40a5-b8e2-6fc8374bebaf",
   "metadata": {},
   "outputs": [
    {
     "data": {
      "text/plain": [
       "0.8093562806577457"
      ]
     },
     "execution_count": 89,
     "metadata": {},
     "output_type": "execute_result"
    }
   ],
   "source": [
    "Y_multi_r2 = lm.score(Z,Y)\n",
    "Y_multi_r2"
   ]
  },
  {
   "cell_type": "markdown",
   "id": "76a35f46-16ab-49a0-b843-0ca4d28d611c",
   "metadata": {},
   "source": [
    "#### Store predicted values:"
   ]
  },
  {
   "cell_type": "code",
   "execution_count": 55,
   "id": "8d377113-b3d4-4a4b-8c82-c91deeb5be0d",
   "metadata": {},
   "outputs": [],
   "source": [
    "Y_hat_multi = lm.predict(Z)"
   ]
  },
  {
   "cell_type": "markdown",
   "id": "c291cdb3-2fb5-4acd-b1e2-44230094e5ee",
   "metadata": {},
   "source": [
    "#### Mean Squared Error:"
   ]
  },
  {
   "cell_type": "code",
   "execution_count": 63,
   "id": "c5db901e-b9e9-41c2-a9f0-c50752ab16c8",
   "metadata": {},
   "outputs": [
    {
     "data": {
      "text/plain": [
       "11980366.87072649"
      ]
     },
     "execution_count": 63,
     "metadata": {},
     "output_type": "execute_result"
    }
   ],
   "source": [
    "Y_multi_mse = mean_squared_error(Y, Y_hat_multi)\n",
    "Y_multi_mse"
   ]
  },
  {
   "cell_type": "markdown",
   "id": "f3ca588e-ee98-4ae9-b71f-a54633670770",
   "metadata": {},
   "source": [
    "## Graphing the model:"
   ]
  },
  {
   "cell_type": "markdown",
   "id": "c72dd623-e735-4383-8f81-560af1180e22",
   "metadata": {},
   "source": [
    "<p>One way to look at the fit of the model is by looking at the <b>distribution plot</b>. We can look at the distribution of the fitted values that result from the model and compare it to the distribution of the actual values.</p>"
   ]
  },
  {
   "cell_type": "code",
   "execution_count": 56,
   "id": "38487bf6-980c-48c1-8bb2-cf235877d8aa",
   "metadata": {},
   "outputs": [
    {
     "name": "stderr",
     "output_type": "stream",
     "text": [
      "/Users/chrisvaisnor/opt/anaconda3/lib/python3.8/site-packages/seaborn/distributions.py:2557: FutureWarning: `distplot` is a deprecated function and will be removed in a future version. Please adapt your code to use either `displot` (a figure-level function with similar flexibility) or `kdeplot` (an axes-level function for kernel density plots).\n",
      "  warnings.warn(msg, FutureWarning)\n",
      "/Users/chrisvaisnor/opt/anaconda3/lib/python3.8/site-packages/seaborn/distributions.py:2557: FutureWarning: `distplot` is a deprecated function and will be removed in a future version. Please adapt your code to use either `displot` (a figure-level function with similar flexibility) or `kdeplot` (an axes-level function for kernel density plots).\n",
      "  warnings.warn(msg, FutureWarning)\n"
     ]
    },
    {
     "data": {
      "image/png": "[encoded data removed]",
      "text/plain": [
       "<Figure size 720x576 with 1 Axes>"
      ]
     },
     "metadata": {
      "needs_background": "light"
     },
     "output_type": "display_data"
    }
   ],
   "source": [
    "plt.figure(figsize=(width, height))\n",
    "\n",
    "\n",
    "ax1 = sns.distplot(df['price'], hist=False, color=\"r\", label=\"Actual Value\")\n",
    "sns.distplot(Y_hat_multi, hist=False, color=\"b\", label=\"Fitted Values\" , ax=ax1)\n",
    "\n",
    "\n",
    "plt.title('Actual vs Fitted Values for Price')\n",
    "plt.xlabel('Price (in dollars)')\n",
    "plt.ylabel('Proportion of Cars')\n",
    "\n",
    "plt.show()\n",
    "plt.close()"
   ]
  },
  {
   "cell_type": "markdown",
   "id": "cfa5a3cd-4eb7-43f1-932d-c43777a99a18",
   "metadata": {},
   "source": [
    "# Polynomial Regression"
   ]
  },
  {
   "cell_type": "markdown",
   "id": "021005dd-ed24-499d-b4db-13392992823e",
   "metadata": {},
   "source": [
    "<center><b>Quadratic - 2nd Order</b></center>\n",
    "$$\n",
    "Yhat = a + b_1 X +b_2 X^2 \n",
    "$$\n",
    "\n",
    "<center><b>Cubic - 3rd Order</b></center>\n",
    "$$\n",
    "Yhat = a + b_1 X +b_2 X^2 +b_3 X^3\\\\\\\\\n",
    "$$\n",
    "\n",
    "<center><b>Higher-Order</b>:</center>\n",
    "$$\n",
    "Y = a + b_1 X +b_2 X^2 +b_3 X^3 ....\\\\\\\\\n",
    "$$"
   ]
  },
  {
   "cell_type": "markdown",
   "id": "00f4436e-9b63-406f-af72-8b0c842f4654",
   "metadata": {},
   "source": [
    "#### Single Variable:"
   ]
  },
  {
   "cell_type": "code",
   "execution_count": 92,
   "id": "117ca111-a15f-4973-a048-0143c5477a92",
   "metadata": {},
   "outputs": [],
   "source": [
    "# Define X and Y\n",
    "X = df['highway-mpg']\n",
    "Y = df['price']\n",
    "\n",
    "# Fit the model\n",
    "f = np.polyfit(X, Y, 3) # Set the polynomial order here"
   ]
  },
  {
   "cell_type": "markdown",
   "id": "382c6770-7190-4db8-9c99-ab17acd078cb",
   "metadata": {},
   "source": [
    "#### Coefficients, Intercept, and R^2:"
   ]
  },
  {
   "cell_type": "code",
   "execution_count": 91,
   "id": "c02c9aeb-1601-4342-b105-e21da83034dd",
   "metadata": {},
   "outputs": [
    {
     "name": "stdout",
     "output_type": "stream",
     "text": [
      "        3         2\n",
      "-1.557 x + 204.8 x - 8965 x + 1.379e+05\n"
     ]
    }
   ],
   "source": [
    "p = np.poly1d(f)\n",
    "print(p)"
   ]
  },
  {
   "cell_type": "code",
   "execution_count": 95,
   "id": "ad60cfb7-1ca7-49cd-beb0-d263fb06aeeb",
   "metadata": {},
   "outputs": [],
   "source": [
    "from sklearn.metrics import r2_score"
   ]
  },
  {
   "cell_type": "code",
   "execution_count": 97,
   "id": "81b2bade-8855-4b13-b9f1-d018e924a2da",
   "metadata": {},
   "outputs": [
    {
     "data": {
      "text/plain": [
       "0.6741946663906522"
      ]
     },
     "execution_count": 97,
     "metadata": {},
     "output_type": "execute_result"
    }
   ],
   "source": [
    "Y_poly_r2 = r2_score(Y, p(x))\n",
    "Y_poly_r2"
   ]
  },
  {
   "cell_type": "markdown",
   "id": "3962a6bc-0f6f-4df5-8acb-532d745386c7",
   "metadata": {},
   "source": [
    "#### Mean Squared error"
   ]
  },
  {
   "cell_type": "code",
   "execution_count": 68,
   "id": "755d643b-cdce-4620-8cd7-b7db8ae5cf57",
   "metadata": {},
   "outputs": [
    {
     "data": {
      "text/plain": [
       "20474146.426361203"
      ]
     },
     "execution_count": 68,
     "metadata": {},
     "output_type": "execute_result"
    }
   ],
   "source": [
    "Y_poly_mse = mean_squared_error(Y, p(x))\n",
    "Y_poly_mse"
   ]
  },
  {
   "cell_type": "markdown",
   "id": "6e8efe3d-2a28-4b38-8f0f-c047c4c24feb",
   "metadata": {},
   "source": [
    "## Graphing the model:"
   ]
  },
  {
   "cell_type": "code",
   "execution_count": 65,
   "id": "631db1c0-ff0c-4807-a99c-6866813eccea",
   "metadata": {},
   "outputs": [
    {
     "data": {
      "image/png": "[encoded data removed]",
      "text/plain": [
       "<Figure size 432x288 with 1 Axes>"
      ]
     },
     "metadata": {
      "needs_background": "light"
     },
     "output_type": "display_data"
    }
   ],
   "source": [
    "def PlotPolly(model, independent_variable, dependent_variabble, Name): # Creating a plotting function using NumPy\n",
    "    x_new = np.linspace(15, 55, 100)\n",
    "    y_new = model(x_new)\n",
    "\n",
    "    plt.plot(independent_variable, dependent_variabble, '.', x_new, y_new, '-')\n",
    "    plt.title('Polynomial Fit with Matplotlib for Price ~ Length')\n",
    "    ax = plt.gca()\n",
    "    ax.set_facecolor((0.898, 0.898, 0.898))\n",
    "    fig = plt.gcf()\n",
    "    plt.xlabel(Name)\n",
    "    plt.ylabel('Price of Cars')\n",
    "\n",
    "    plt.show()\n",
    "    plt.close()\n",
    "    \n",
    "PlotPolly(p, X, Y, 'highway-mpg')"
   ]
  },
  {
   "cell_type": "markdown",
   "id": "11082a12-4a8c-48ab-9c55-1221de5d948b",
   "metadata": {},
   "source": [
    "# Multivariate Polynomial Regression"
   ]
  },
  {
   "cell_type": "markdown",
   "id": "a11a4411-1227-4711-b78b-ad7625afdaad",
   "metadata": {},
   "source": [
    "#### This gets very complicated and using data pipelines makes the process simpler. "
   ]
  },
  {
   "cell_type": "markdown",
   "id": "c732a011-34d5-4b2c-8247-419054ae90ee",
   "metadata": {},
   "source": [
    "#### For example, this is a 2nd degree, bi-variate function,\n",
    "\n",
    "$$\n",
    "Yhat = a + b\\_1 X\\_1 +b\\_2 X\\_2 +b\\_3 X\\_1 X\\_2+b\\_4 X\\_1^2+b\\_5 X\\_2^2\n",
    "$$\n",
    "\n"
   ]
  },
  {
   "cell_type": "code",
   "execution_count": 31,
   "id": "3fed2e97-5814-4787-b7db-d0648264ca86",
   "metadata": {},
   "outputs": [],
   "source": [
    "# This library allows me to polynomial transform multiple data attributes.\n",
    "from sklearn.preprocessing import PolynomialFeatures"
   ]
  },
  {
   "cell_type": "code",
   "execution_count": 34,
   "id": "164778b4-2b0f-4521-bc20-21fe34da9cd1",
   "metadata": {},
   "outputs": [],
   "source": [
    "pr=PolynomialFeatures(degree=2) # Create a PolynomialFeatures object"
   ]
  },
  {
   "cell_type": "code",
   "execution_count": 33,
   "id": "e678f60e-c159-49be-91d7-8e67b1129069",
   "metadata": {},
   "outputs": [
    {
     "data": {
      "text/plain": [
       "(201, 4)"
      ]
     },
     "execution_count": 33,
     "metadata": {},
     "output_type": "execute_result"
    }
   ],
   "source": [
    "# For clarity check the size of the original Z multi-variate attribute:\n",
    "\n",
    "Z.shape"
   ]
  },
  {
   "cell_type": "code",
   "execution_count": 35,
   "id": "da4d726a-d745-44e7-9086-96acbcd19978",
   "metadata": {},
   "outputs": [
    {
     "data": {
      "text/plain": [
       "(201, 15)"
      ]
     },
     "execution_count": 35,
     "metadata": {},
     "output_type": "execute_result"
    }
   ],
   "source": [
    "# Apply a polynomial transformation to that Z attribute:\n",
    "\n",
    "Z_pr = pr.fit_transform(Z)\n",
    "\n",
    "# Check the size again:\n",
    "\n",
    "Z_pr.shape"
   ]
  },
  {
   "cell_type": "markdown",
   "id": "b1b3f0bb-060e-4af2-ac5d-0fbcfe249675",
   "metadata": {},
   "source": [
    "## Pipeline"
   ]
  },
  {
   "cell_type": "code",
   "execution_count": 36,
   "id": "19f6283c-29d2-45c6-9dc0-e9405ae3d573",
   "metadata": {},
   "outputs": [],
   "source": [
    "# Import libraries for the pipeline\n",
    "\n",
    "from sklearn.pipeline import Pipeline\n",
    "from sklearn.preprocessing import StandardScaler"
   ]
  },
  {
   "cell_type": "markdown",
   "id": "fc6333cb-0d6f-4b59-9839-4fc7418ddb55",
   "metadata": {},
   "source": [
    "We create the pipeline by creating a list of tuples including the name of the model or estimator and its corresponding constructor."
   ]
  },
  {
   "cell_type": "code",
   "execution_count": 37,
   "id": "3253f929-dd16-43aa-95bd-611c8cc7a980",
   "metadata": {},
   "outputs": [
    {
     "data": {
      "text/plain": [
       "Pipeline(steps=[('scale', StandardScaler()),\n",
       "                ('polynomial', PolynomialFeatures(include_bias=False)),\n",
       "                ('model', LinearRegression())])"
      ]
     },
     "execution_count": 37,
     "metadata": {},
     "output_type": "execute_result"
    }
   ],
   "source": [
    "# List for the Pipeline\n",
    "\n",
    "Input=[('scale',StandardScaler()), ('polynomial', PolynomialFeatures(include_bias=False)), ('model',LinearRegression())]\n",
    "\n",
    "# Input the list as an argument into the Pipeline Constructor\n",
    "\n",
    "pipe=Pipeline(Input)\n",
    "pipe"
   ]
  },
  {
   "cell_type": "code",
   "execution_count": 66,
   "id": "89fad95d-db74-4ddc-ab40-6c55c9a652ec",
   "metadata": {},
   "outputs": [
    {
     "data": {
      "text/plain": [
       "Pipeline(steps=[('scale', StandardScaler()),\n",
       "                ('polynomial', PolynomialFeatures(include_bias=False)),\n",
       "                ('model', LinearRegression())])"
      ]
     },
     "execution_count": 66,
     "metadata": {},
     "output_type": "execute_result"
    }
   ],
   "source": [
    "# StandardScaler can only take float inputs. \n",
    "\n",
    "Z = Z.astype(float)\n",
    "\n",
    "# Fit the data\n",
    "pipe.fit(Z,Y)"
   ]
  },
  {
   "cell_type": "markdown",
   "id": "9b4b4356-ea35-419b-bb06-f5224f8915df",
   "metadata": {},
   "source": [
    "#### Store predicted values:"
   ]
  },
  {
   "cell_type": "code",
   "execution_count": 67,
   "id": "a6a1a327-f756-440d-bd5c-dce3910fb380",
   "metadata": {},
   "outputs": [],
   "source": [
    "ypipe = pipe.predict(Z)"
   ]
  },
  {
   "cell_type": "markdown",
   "id": "2f0f2fc1-6221-46c9-acbe-235841f30621",
   "metadata": {},
   "source": [
    "# Comparing Simple, Multi, and Poly Regressions"
   ]
  },
  {
   "cell_type": "code",
   "execution_count": 104,
   "id": "ce8cc46d-e5f1-4929-a09a-32af975307fd",
   "metadata": {},
   "outputs": [
    {
     "data": {
      "text/plain": [
       "(0.4965911884339176, 31635042.944639888)"
      ]
     },
     "execution_count": 104,
     "metadata": {},
     "output_type": "execute_result"
    }
   ],
   "source": [
    "Y_simple_r2, Y_simple_mse"
   ]
  },
  {
   "cell_type": "code",
   "execution_count": 105,
   "id": "b572a848-e066-4ecb-a521-2bb4ae6c5f9a",
   "metadata": {},
   "outputs": [
    {
     "data": {
      "text/plain": [
       "(0.8093562806577457, 11980366.87072649)"
      ]
     },
     "execution_count": 105,
     "metadata": {},
     "output_type": "execute_result"
    }
   ],
   "source": [
    "Y_multi_r2, Y_multi_mse"
   ]
  },
  {
   "cell_type": "code",
   "execution_count": 106,
   "id": "aec02e0e-c28c-4fd5-8715-3307aa4c65d3",
   "metadata": {},
   "outputs": [
    {
     "data": {
      "text/plain": [
       "(0.6741946663906522, 20474146.426361203)"
      ]
     },
     "execution_count": 106,
     "metadata": {},
     "output_type": "execute_result"
    }
   ],
   "source": [
    "Y_poly_r2, Y_poly_mse"
   ]
  },
  {
   "cell_type": "markdown",
   "id": "848e7cdb-b9ae-4ef6-bf49-d4966ff96c63",
   "metadata": {},
   "source": [
    "#### Based on these values, the single degree - multivariate model is best!"
   ]
  },
  {
   "cell_type": "code",
   "execution_count": null,
   "id": "a489774a-8e72-4a9c-b54a-8d3fcc2aca89",
   "metadata": {},
   "outputs": [],
   "source": []
  }
 ],
 "metadata": {
  "kernelspec": {
   "display_name": "Python 3",
   "language": "python",
   "name": "python3"
  },
  "language_info": {
   "codemirror_mode": {
    "name": "ipython",
    "version": 3
   },
   "file_extension": ".py",
   "mimetype": "text/x-python",
   "name": "python",
   "nbconvert_exporter": "python",
   "pygments_lexer": "ipython3",
   "version": "3.8.8"
  }
 },
 "nbformat": 4,
 "nbformat_minor": 5
}
